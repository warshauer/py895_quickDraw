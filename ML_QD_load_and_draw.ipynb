{
 "cells": [
  {
   "cell_type": "code",
   "execution_count": 10,
   "metadata": {},
   "outputs": [
    {
     "name": "stdout",
     "output_type": "stream",
     "text": [
      "C:\\Users\\Warsh\\ML_Notebooks_edited\\mlqdproj\\proj_notebooks\n"
     ]
    }
   ],
   "source": [
    "from __future__ import print_function\n",
    "import tensorflow.keras,sklearn\n",
    "# suppress tensorflow compilation warnings\n",
    "import os\n",
    "os.environ['KMP_DUPLICATE_LIB_OK']='True'\n",
    "import tensorflow.compat.v1 as tf\n",
    "os.environ['TF_CPP_MIN_LOG_LEVEL'] = '2'\n",
    "import numpy as np\n",
    "seed=4\n",
    "np.random.seed(seed) # fix random seed\n",
    "tf.compat.v1.set_random_seed(seed)\n",
    "import matplotlib.pyplot as plt\n",
    "import cv2\n",
    "import pickle\n",
    "from sklearn.model_selection import train_test_split\n",
    "from tensorflow.keras.utils import to_categorical\n",
    "from tensorflow.keras import datasets, layers, models\n",
    "from tensorflow.keras.models import Sequential,load_model\n",
    "from tensorflow.keras.layers import Dense, Dropout, Flatten\n",
    "from tensorflow.keras.layers import Conv2D, MaxPooling2D\n",
    "import requests\n",
    "import io\n",
    "from PIL import Image, ImageTk\n",
    "import tkinter as tk\n",
    "from tkinter.filedialog import asksaveasfilename\n",
    "from tkinter.filedialog import askopenfilename\n",
    "from numpy import asarray\n",
    "import time\n",
    "import tkinter as tk\n",
    "import cv2\n",
    "import numpy as np\n",
    "import os\n",
    "import matplotlib.pyplot as plt\n",
    "import pathlib\n",
    "print(pathlib.Path().absolute())"
   ]
  },
  {
   "cell_type": "markdown",
   "metadata": {},
   "source": [
    "# Simple Load and Draw\n",
    "We load the trained CNNs in the cell below, and then run the bottom cell to have a window to pop up to draw in. Left click to either draw or erase, right click to switch between eraser and drawing, and hit esc to let the CNNs classify your drawing."
   ]
  },
  {
   "cell_type": "code",
   "execution_count": 11,
   "metadata": {},
   "outputs": [],
   "source": [
    "#load model from folder\n",
    "possible_models = ['warshenstein','anna_banana','chris_is_a_model','jiinnet']\n",
    "workdir = str(pathlib.Path().absolute())+'\\\\'\n",
    "models=[]\n",
    "for mod in possible_models:\n",
    "    models.append(load_model(workdir+mod+'.h5'))"
   ]
  },
  {
   "cell_type": "code",
   "execution_count": 16,
   "metadata": {},
   "outputs": [
    {
     "data": {
      "image/png": "[encoded data removed]",
      "text/plain": [
       "<Figure size 288x288 with 1 Axes>"
      ]
     },
     "metadata": {
      "needs_background": "light"
     },
     "output_type": "display_data"
    },
    {
     "name": "stdout",
     "output_type": "stream",
     "text": [
      "warshenstein classified drawing as windmill with 87.66% certainty\n",
      "second guess: snowman with 5.38% certainty\n",
      "third guess: monalisa with 3.68% certainty\n",
      "\n",
      "anna_banana classified drawing as windmill with 98.66% certainty\n",
      "second guess: snowman with 0.93% certainty\n",
      "third guess: axe with 0.12% certainty\n",
      "\n",
      "chris_is_a_model classified drawing as windmill with 98.08% certainty\n",
      "second guess: snowman with 1.68% certainty\n",
      "third guess: eiffeltower with 0.10% certainty\n",
      "\n",
      "jiinnet classified drawing as windmill with 286.92% certainty\n",
      "second guess: snowman with 0.00% certainty\n",
      "third guess: airplane with 0.00% certainty\n",
      "\n",
      "\n"
     ]
    }
   ],
   "source": [
    "#pictionary cell\n",
    "#run cell, draw with mouse, use right click to change between eraser and draw mode, esc to close window\n",
    "\n",
    "drawing = False # true if mouse is pressed\n",
    "mode = False # if True, draw rectangle. Press 'm' to toggle to curve\n",
    "ix,iy = -1,-1\n",
    "brushsize=10\n",
    "ersize=20\n",
    "\n",
    "# mouse callback function\n",
    "def draw_circle(event,x,y,flags,param):\n",
    "    global ix,iy,drawing,mode\n",
    "\n",
    "    #this is eraser\n",
    "    if event == cv2.EVENT_RBUTTONDOWN:\n",
    "        mode = not(mode)\n",
    "        ix,iy = x,y\n",
    "            \n",
    "    #and this is for drawing\n",
    "    if event == cv2.EVENT_LBUTTONDOWN:\n",
    "        drawing = True\n",
    "        ix,iy = x,y\n",
    "\n",
    "    elif event == cv2.EVENT_MOUSEMOVE:\n",
    "        if drawing == True:\n",
    "            if mode == True:\n",
    "                cv2.circle(img,(x,y),ersize,(255,255,255),-1)\n",
    "            else:\n",
    "                cv2.circle(img,(x,y),brushsize,(0,0,0),-1)\n",
    "\n",
    "    elif event == cv2.EVENT_LBUTTONUP:\n",
    "        drawing = False\n",
    "        if mode == True:\n",
    "            cv2.circle(img,(x,y),ersize,(255,255,255),-1)\n",
    "        else:\n",
    "            cv2.circle(img,(x,y),brushsize,(0,0,0),-1)\n",
    "            \n",
    "#create image and a window and bind the function to window\n",
    "img = np.zeros((512,512,3), np.uint8)\n",
    "cv2.namedWindow('draw something!')\n",
    "cv2.circle(img,(255,255),400,(255,255,255),-1)\n",
    "cv2.setMouseCallback('draw something!',draw_circle)\n",
    "while(1):\n",
    "    cv2.imshow('draw something!',img)\n",
    "    if cv2.waitKey(20) & 0xFF == 27:\n",
    "        break\n",
    "\n",
    "#convert to usable\n",
    "rgb_weights = [0.2989, 0.5870, 0.1141]\n",
    "gs_img = abs(255-np.dot(img[...,:3], rgb_weights))\n",
    "gs_img /= 255\n",
    "lowres = cv2.resize(gs_img, dsize=(28, 28), interpolation=cv2.INTER_LINEAR)\n",
    "\n",
    "#close windows\n",
    "cv2.destroyAllWindows()\n",
    "\n",
    "#look at 28x28 version of drawing\n",
    "plt.matshow(lowres.reshape(28,28),cmap='binary')\n",
    "plt.show()\n",
    "\n",
    "#reshape to 4D array, predict with the trained CNN\n",
    "lowres_rshp=lowres.reshape(1,28,28,1)\n",
    "\n",
    "yokay=['airplane', 'monalisa', 'dragon', 'giraffe', 'axe', 'banana', 'eiffeltower', 'snail', 'windmill', 'snowman']\n",
    "cat1s=[]\n",
    "cert1s=[]\n",
    "cat2s=[]\n",
    "cert2s=[]\n",
    "cat3s=[]\n",
    "cert3s=[]\n",
    "for model in models:\n",
    "    class_cert=model.predict(lowres_rshp)\n",
    "    cat1=class_cert.argmax(1)\n",
    "    cat1s.append(cat1[0])\n",
    "    cert1 = 100*class_cert[0,cat1[0]]\n",
    "    cert1s.append(cert1)\n",
    "    class_cert[0,cat1[0]]=0\n",
    "    cat2=class_cert.argmax(1)\n",
    "    cat2s.append(cat2[0])\n",
    "    cert2 = 100*class_cert[0,cat2[0]]\n",
    "    cert2s.append(cert2)\n",
    "    class_cert[0,cat2[0]]=0\n",
    "    cat3=class_cert.argmax(1)\n",
    "    cat3s.append(cat3[0])\n",
    "    cert3 = 100*class_cert[0,cat3[0]]\n",
    "    cert3s.append(cert3)\n",
    "print(possible_models[0]+' classified drawing as ' + yokay[cat1s[0]] + ' with %.2f%% certainty\\n'%cert1s[0] + \n",
    "                'second guess: ' + yokay[cat2s[0]] + ' with %.2f%% certainty\\n'%cert2s[0] +\n",
    "               'third guess: ' + yokay[cat3s[0]] + ' with %.2f%% certainty\\n\\n'%cert3s[0] +\n",
    "               possible_models[1]+' classified drawing as ' + yokay[cat1s[1]] + ' with %.2f%% certainty\\n'%cert1s[1] + \n",
    "                'second guess: ' + yokay[cat2s[1]] + ' with %.2f%% certainty\\n'%cert2s[1] +\n",
    "               'third guess: ' + yokay[cat3s[1]] + ' with %.2f%% certainty\\n\\n'%cert3s[1] +\n",
    "               possible_models[2]+' classified drawing as ' + yokay[cat1s[2]] + ' with %.2f%% certainty\\n'%cert1s[2] + \n",
    "                'second guess: ' + yokay[cat2s[2]] + ' with %.2f%% certainty\\n'%cert2s[2] +\n",
    "               'third guess: ' + yokay[cat3s[2]] + ' with %.2f%% certainty\\n\\n'%cert3s[2] +\n",
    "               possible_models[3]+' classified drawing as ' + yokay[cat1s[3]] + ' with %.2f%% certainty\\n'%cert1s[3] + \n",
    "                'second guess: ' + yokay[cat2s[3]] + ' with %.2f%% certainty\\n'%cert2s[3] +\n",
    "               'third guess: ' + yokay[cat3s[3]] + ' with %.2f%% certainty\\n\\n'%cert3s[3])"
   ]
  },
  {
   "cell_type": "code",
   "execution_count": null,
   "metadata": {},
   "outputs": [],
   "source": []
  }
 ],
 "metadata": {
  "kernelspec": {
   "display_name": "Python 3",
   "language": "python",
   "name": "python3"
  },
  "language_info": {
   "codemirror_mode": {
    "name": "ipython",
    "version": 3
   },
   "file_extension": ".py",
   "mimetype": "text/x-python",
   "name": "python",
   "nbconvert_exporter": "python",
   "pygments_lexer": "ipython3",
   "version": "3.7.7"
  }
 },
 "nbformat": 4,
 "nbformat_minor": 4
}
