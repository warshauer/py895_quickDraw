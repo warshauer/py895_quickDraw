{
 "cells": [
  {
   "cell_type": "code",
   "execution_count": 4,
   "metadata": {
    "id": "vleO8avU-sb7"
   },
   "outputs": [
    {
     "name": "stdout",
     "output_type": "stream",
     "text": [
      "C:\\Users\\Warsh\\ML_Notebooks_edited\\mlqdproj\\proj_notebooks\n",
      "2.4.0\n"
     ]
    }
   ],
   "source": [
    "import tensorflow.keras,sklearn\n",
    "import os\n",
    "os.environ['KMP_DUPLICATE_LIB_OK']='True'\n",
    "import tensorflow.compat.v1 as tf\n",
    "os.environ['TF_CPP_MIN_LOG_LEVEL'] = '2'\n",
    "import numpy as np\n",
    "seed=4\n",
    "np.random.seed(seed)\n",
    "tf.set_random_seed(seed)\n",
    "import matplotlib.pyplot as plt\n",
    "import cv2\n",
    "import pickle\n",
    "from sklearn.model_selection import train_test_split\n",
    "from tensorflow.keras.utils import to_categorical\n",
    "from tensorflow.keras import datasets, layers, models\n",
    "from tensorflow.keras.models import Sequential,load_model\n",
    "from tensorflow.keras.layers import Dense, Dropout, Flatten\n",
    "from tensorflow.keras.layers import Conv2D, MaxPooling2D\n",
    "import requests\n",
    "import io\n",
    "from PIL import Image, ImageTk\n",
    "import tkinter as tk\n",
    "from tkinter.filedialog import asksaveasfilename\n",
    "from tkinter.filedialog import askopenfilename\n",
    "from numpy import asarray\n",
    "import time\n",
    "import pathlib\n",
    "print(pathlib.Path().absolute())\n",
    "#should run on 2.4.0\n",
    "print(tf.__version__)"
   ]
  },
  {
   "cell_type": "markdown",
   "metadata": {},
   "source": [
    "# Unrestricted Comparison\n",
    "This is the notebook in which we compared the models with unrestricted training time and parameters."
   ]
  },
  {
   "cell_type": "code",
   "execution_count": 5,
   "metadata": {
    "colab": {
     "base_uri": "https://localhost:8080/"
    },
    "id": "5gmcLrYd_HWr",
    "outputId": "6540623c-c38f-42d7-ffc6-5ed842444d79"
   },
   "outputs": [
    {
     "name": "stdout",
     "output_type": "stream",
     "text": [
      "loaded: ['airplane', 'monalisa', 'dragon', 'giraffe', 'axe', 'banana', 'eiffeltower', 'snail', 'windmill', 'snowman']\n"
     ]
    }
   ],
   "source": [
    "all_cat_titles = ['airplane','monalisa','dragon','giraffe','axe','banana','eiffeltower','snail','windmill','snowman','schoolbus','smileyface','lollipop',]\n",
    "\n",
    "img_rows, img_cols = 28, 28 \n",
    "\n",
    "use_dataset_titles = ['X_use','Y_use']\n",
    "ot = ['X_onlytest','Y_onlytest']\n",
    "#DONT YOU DARE TOUCH THE ONLYTEST FILES.\n",
    "#IF YOU ARE TRAINING A NEURAL NETWORK, TRAIN, VALIDATE, AND TEST FROM THE 'USE' FILES.\n",
    "\n",
    "#load data\n",
    "url_main = 'https://physics.bu.edu/~warsh/ML_QD/'\n",
    "datalib={}\n",
    "\n",
    "#loading samples\n",
    "response = requests.get(url_main + 'ot1' +'.npy')\n",
    "response.raise_for_status()\n",
    "data = np.load(io.BytesIO(response.content), allow_pickle=False)\n",
    "data = data.reshape(data.shape[0], img_rows*img_cols)\n",
    "datalib[ot[0]] = data\n",
    "\n",
    "response = requests.get(url_main + 'ot2' +'.npy')\n",
    "response.raise_for_status()\n",
    "data = np.load(io.BytesIO(response.content), allow_pickle=False)\n",
    "datalib[ot[1]] = data\n",
    "\n",
    "num_classes = int(max(datalib['Y_onlytest'])+1)\n",
    "cat_titles = all_cat_titles[:num_classes]\n",
    "print('loaded:',cat_titles)"
   ]
  },
  {
   "cell_type": "code",
   "execution_count": 6,
   "metadata": {
    "colab": {
     "base_uri": "https://localhost:8080/",
     "height": 797
    },
    "id": "q3MubcZK_Pyf",
    "outputId": "972a28da-e9fb-4ecb-c1ab-0730fff3d559"
   },
   "outputs": [
    {
     "name": "stdout",
     "output_type": "stream",
     "text": [
      "X_ot shape: (337168, 28, 28, 1)\n",
      "Y_ot shape: (337168, 10)\n"
     ]
    }
   ],
   "source": [
    "#shape test set\n",
    "Y_ot = datalib['Y_onlytest']\n",
    "X_ot = datalib['X_onlytest']\n",
    "\n",
    "#reshape into 2D\n",
    "X_ot = X_ot.reshape(X_ot.shape[0],img_rows,img_cols)\n",
    "\n",
    "#yeah okay some floats\n",
    "X_ot = X_ot.astype('float32')\n",
    "\n",
    "#scale onto the fun zer-O to O-ne inverval\n",
    "X_ot /= 255\n",
    "X_ot_IS = X_ot\n",
    "# converting the actual numbers to the the one-hot vectors\n",
    "Y_ot = keras.utils.to_categorical(Y_ot, num_classes)\n",
    "\n",
    "#reshape data, depending on Keras backend, final data formatting\n",
    "if keras.backend.image_data_format() == 'channels_first':\n",
    "    X_ot = X_ot.reshape(X_ot.shape[0], 1, img_rows, img_cols)\n",
    "    input_shape = (1, img_rows, img_cols)\n",
    "else:\n",
    "    X_ot = X_ot.reshape(X_ot.shape[0], img_rows, img_cols, 1)\n",
    "    input_shape = (img_rows, img_cols, 1)\n",
    "\n",
    "#more debugging shit\n",
    "print('X_ot shape:', X_ot.shape)\n",
    "print('Y_ot shape:', Y_ot.shape)"
   ]
  },
  {
   "cell_type": "code",
   "execution_count": 11,
   "metadata": {
    "id": "ED2I9wK7BgEG"
   },
   "outputs": [],
   "source": [
    "#load model from folder\n",
    "possible_models = ['warshenstein','anna_banana','chris_is_a_model','jiinnet']\n",
    "workdir = str(pathlib.Path().absolute())+'\\\\'\n",
    "models={}\n",
    "for mod in possible_models:\n",
    "    models[mod]=load_model(workdir+mod+'.h5')\n",
    "#score dictionary, I recently started using dictionaries, they're so fun.\n",
    "scoreC={}"
   ]
  },
  {
   "cell_type": "markdown",
   "metadata": {},
   "source": [
    "## Results with these loaded models:"
   ]
  },
  {
   "cell_type": "code",
   "execution_count": 12,
   "metadata": {
    "colab": {
     "base_uri": "https://localhost:8080/"
    },
    "id": "MQ3qD64oKBVG",
    "outputId": "138a8a73-5834-4715-9a8f-8bdad7b49be1"
   },
   "outputs": [
    {
     "name": "stdout",
     "output_type": "stream",
     "text": [
      "10537/10537 [==============================] - 155s 15ms/step - loss: 0.1073 - accuracy: 0.9709\n",
      "10537/10537 [==============================] - 36s 3ms/step - loss: 0.1610 - accuracy: 0.9598\n",
      "10537/10537 [==============================] - 41s 4ms/step - loss: 0.1420 - accuracy: 0.9621\n",
      "10537/10537 [==============================] - 67s 6ms/step - loss: 0.1249 - accuracy: 0.9690\n"
     ]
    }
   ],
   "source": [
    "for key in models.keys():\n",
    "    scoreC[key]  = models[key].evaluate(X_ot, Y_ot, verbose=1)"
   ]
  }
 ],
 "metadata": {
  "accelerator": "TPU",
  "colab": {
   "collapsed_sections": [],
   "machine_shape": "hm",
   "name": "ML_QD_Unrestricted_Comparison.ipynb",
   "provenance": []
  },
  "kernelspec": {
   "display_name": "Python 3",
   "language": "python",
   "name": "python3"
  },
  "language_info": {
   "codemirror_mode": {
    "name": "ipython",
    "version": 3
   },
   "file_extension": ".py",
   "mimetype": "text/x-python",
   "name": "python",
   "nbconvert_exporter": "python",
   "pygments_lexer": "ipython3",
   "version": "3.7.7"
  }
 },
 "nbformat": 4,
 "nbformat_minor": 1
}
