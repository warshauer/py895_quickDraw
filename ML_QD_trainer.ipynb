{
 "cells": [
  {
   "cell_type": "code",
   "execution_count": 13,
   "metadata": {},
   "outputs": [
    {
     "name": "stdout",
     "output_type": "stream",
     "text": [
      "working directory: C:\\Users\\Warsh\\ML_Notebooks_edited\\mlqdproj\\proj_notebooks\n",
      "tensorflow version 2.4.0\n"
     ]
    }
   ],
   "source": [
    "#importing way more than we need:\n",
    "import tensorflow.keras,sklearn\n",
    "import os\n",
    "os.environ['KMP_DUPLICATE_LIB_OK']='True'\n",
    "import tensorflow.compat.v1 as tf\n",
    "os.environ['TF_CPP_MIN_LOG_LEVEL'] = '2'\n",
    "import numpy as np\n",
    "seed=4\n",
    "np.random.seed(seed)\n",
    "tf.set_random_seed(seed)\n",
    "import matplotlib.pyplot as plt\n",
    "import cv2\n",
    "import pickle\n",
    "from sklearn.model_selection import train_test_split\n",
    "from tensorflow.keras.utils import to_categorical\n",
    "from tensorflow.keras import datasets, layers, models\n",
    "from tensorflow.keras.models import Sequential,load_model\n",
    "from tensorflow.keras.layers import Dense, Dropout, Flatten\n",
    "from tensorflow.keras.layers import Conv2D, MaxPooling2D\n",
    "import requests\n",
    "import io\n",
    "from PIL import Image, ImageTk\n",
    "import tkinter as tk\n",
    "from tkinter.filedialog import asksaveasfilename\n",
    "from tkinter.filedialog import askopenfilename\n",
    "from numpy import asarray\n",
    "import time\n",
    "import pathlib\n",
    "print('working directory:',pathlib.Path().absolute())\n",
    "#should run on 2.4.0\n",
    "print('tensorflow version',tf.__version__)"
   ]
  },
  {
   "cell_type": "markdown",
   "metadata": {},
   "source": [
    "# QD Trainer Program\n",
    "This is a program put together using scraps from various other notebooks in the course by warsh to make training simple for the group/make sure everyone is on the same page as far as what parts of the dataset are being used."
   ]
  },
  {
   "cell_type": "code",
   "execution_count": 14,
   "metadata": {},
   "outputs": [
    {
     "name": "stdout",
     "output_type": "stream",
     "text": [
      "loaded: ['airplane', 'monalisa', 'dragon', 'giraffe', 'axe', 'banana', 'eiffeltower', 'snail', 'windmill', 'snowman']\n"
     ]
    }
   ],
   "source": [
    "all_cat_titles = ['airplane','monalisa','dragon','giraffe','axe','banana','eiffeltower','snail','windmill','snowman','schoolbus','smileyface','lollipop',]\n",
    "\n",
    "img_rows, img_cols = 28, 28 \n",
    "\n",
    "use_dataset_titles = ['X_use','Y_use']\n",
    "ottest = ['ot1','ot2']\n",
    "#DONT YOU DARE TOUCH THE ONLYTEST FILES.\n",
    "#IF YOU ARE TRAINING A NEURAL NETWORK, TRAIN, VALIDATE, AND TEST FROM THE 'USE' FILES.\n",
    "\n",
    "#load data\n",
    "url_main = 'https://physics.bu.edu/~warsh/ML_QD/'\n",
    "datalib={}\n",
    "\n",
    "#loading samples\n",
    "response = requests.get(url_main + use_dataset_titles[0] +'.npy')\n",
    "response.raise_for_status()\n",
    "data = np.load(io.BytesIO(response.content), allow_pickle=False)\n",
    "data = data.reshape(data.shape[0], img_rows*img_cols)\n",
    "datalib[use_dataset_titles[0]] = data\n",
    "\n",
    "response = requests.get(url_main + use_dataset_titles[1] +'.npy')\n",
    "response.raise_for_status()\n",
    "data = np.load(io.BytesIO(response.content), allow_pickle=False)\n",
    "datalib[use_dataset_titles[1]] = data\n",
    "\n",
    "num_classes = int(max(datalib['Y_use'])+1)\n",
    "cat_titles = all_cat_titles[:num_classes]\n",
    "print('loaded:',cat_titles)"
   ]
  },
  {
   "cell_type": "code",
   "execution_count": 17,
   "metadata": {},
   "outputs": [
    {
     "name": "stdout",
     "output_type": "stream",
     "text": [
      "an example of a data point with label axe\n"
     ]
    },
    {
     "data": {
      "image/png": "[encoded data removed]",
      "text/plain": [
       "<Figure size 288x288 with 1 Axes>"
      ]
     },
     "metadata": {
      "needs_background": "light"
     },
     "output_type": "display_data"
    },
    {
     "name": "stdout",
     "output_type": "stream",
     "text": [
      "an example of a data point with label airplane\n"
     ]
    },
    {
     "data": {
      "image/png": "[encoded data removed]",
      "text/plain": [
       "<Figure size 288x288 with 1 Axes>"
      ]
     },
     "metadata": {
      "needs_background": "light"
     },
     "output_type": "display_data"
    },
    {
     "name": "stdout",
     "output_type": "stream",
     "text": [
      "X_train shape: (86314, 28, 28, 1)\n",
      "Y_train shape: (86314, 10)\n",
      "X_valid shape: (21578, 28, 28, 1)\n",
      "Y_valid shape: (21578, 10)\n",
      "X_test shape: (26973, 28, 28, 1)\n",
      "Y_test shape: (26973, 10)\n",
      "\n",
      "86314 train samples\n",
      "21578 validation samples\n",
      "26973 test samples\n",
      "134865 total\n"
     ]
    }
   ],
   "source": [
    "#format, delegate, and scale data\n",
    "Y_use = datalib['Y_use']\n",
    "X_use = datalib['X_use']\n",
    "\n",
    "#use small portion, randomized already:\n",
    "ratio_use=.1\n",
    "numosamps = len(Y_use)*ratio_use #number of samples used for train, validation, and testsets\n",
    "test_size=.2 #20% test\n",
    "tr2valr=.8 #64% train, 16% validation\n",
    "num_classes=int(max(Y_use)+1)\n",
    "\n",
    "#scramble and split!\n",
    "X_tr, X_test, Y_tr, Y_test = train_test_split(X_use, Y_use, test_size=test_size, train_size=1.0-test_size)\n",
    "X_train, X_valid, Y_train, Y_valid = train_test_split(X_tr,Y_tr,train_size=tr2valr,test_size=1-tr2valr)\n",
    "\n",
    "#how much we usin'\n",
    "X_train = X_train[0:int(numosamps*(1.0-test_size)*tr2valr)]\n",
    "Y_train = Y_train[0:int(numosamps*(1.0-test_size)*tr2valr)]\n",
    "X_valid = X_valid[0:int(numosamps*(1.0-test_size)*(1.0-tr2valr))]\n",
    "Y_valid = Y_valid[0:int(numosamps*(1.0-test_size)*(1.0-tr2valr))]\n",
    "X_test = X_test[0:int(numosamps*test_size)]\n",
    "Y_test = Y_test[0:int(numosamps*test_size)]\n",
    "\n",
    "#reshape into 2D\n",
    "X_train = X_train.reshape(X_train.shape[0],img_rows,img_cols)\n",
    "X_valid = X_valid.reshape(X_valid.shape[0],img_rows,img_cols)\n",
    "X_test = X_test.reshape(X_test.shape[0],img_rows,img_cols)\n",
    "\n",
    "#yeah okay some floats\n",
    "X_train = X_train.astype('float32')\n",
    "X_valid = X_valid.astype('float32')\n",
    "X_test = X_test.astype('float32')\n",
    "\n",
    "#scale onto the fun zer-O to O-ne inverval\n",
    "X_train /= 255\n",
    "X_valid /= 255\n",
    "X_test /= 255\n",
    "\n",
    "#display some stuff\n",
    "for i in range(2):\n",
    "    print('an example of a data point with label', cat_titles[int(Y_train[i])])\n",
    "    plt.matshow(X_train[i,:],cmap='binary')\n",
    "    plt.show()\n",
    "\n",
    "# converting the actual numbers to the the one-hot vectors\n",
    "Y_train = tensorflow.keras.utils.to_categorical(Y_train, num_classes)\n",
    "Y_test = tensorflow.keras.utils.to_categorical(Y_test, num_classes)\n",
    "Y_valid = tensorflow.keras.utils.to_categorical(Y_valid, num_classes)\n",
    "\n",
    "#reshape data, depending on Keras backend, final data formatting\n",
    "if tensorflow.keras.backend.image_data_format() == 'channels_first':\n",
    "    X_train = X_train.reshape(X_train.shape[0], 1, img_rows, img_cols)\n",
    "    X_test = X_test.reshape(X_test.shape[0], 1, img_rows, img_cols)\n",
    "    X_valid = X_valid.reshape(X_valid.shape[0], 1, img_rows, img_cols)\n",
    "    input_shape = (1, img_rows, img_cols)\n",
    "else:\n",
    "    X_train = X_train.reshape(X_train.shape[0], img_rows, img_cols, 1)\n",
    "    X_test = X_test.reshape(X_test.shape[0], img_rows, img_cols, 1)\n",
    "    X_valid = X_valid.reshape(X_valid.shape[0], img_rows, img_cols,1)\n",
    "    input_shape = (img_rows, img_cols, 1)\n",
    "\n",
    "#more debugging shit\n",
    "print('X_train shape:', X_train.shape)\n",
    "print('Y_train shape:', Y_train.shape)\n",
    "print('X_valid shape:', X_valid.shape)\n",
    "print('Y_valid shape:', Y_valid.shape)\n",
    "print('X_test shape:', X_test.shape)\n",
    "print('Y_test shape:', Y_test.shape)\n",
    "print()\n",
    "print(X_train.shape[0], 'train samples')\n",
    "print(X_valid.shape[0], 'validation samples')\n",
    "print(X_test.shape[0], 'test samples')\n",
    "\n",
    "print(X_train.shape[0]+X_valid.shape[0]+X_test.shape[0], 'total')"
   ]
  },
  {
   "cell_type": "code",
   "execution_count": 20,
   "metadata": {},
   "outputs": [],
   "source": [
    "#CNN pulled straight from Prof's NBs, edit this how you like, do whatever you want with your architecture.\n",
    "def create_CNN(nm):\n",
    "    # instantiate model\n",
    "    model = Sequential(name=nm)\n",
    "    # add first convolutional layer with 10 filters (dimensionality of output space)\n",
    "    model.add(Conv2D(10, kernel_size=(5, 5),\n",
    "                     activation='relu',\n",
    "                     input_shape=input_shape))\n",
    "    # add 2D pooling layer\n",
    "    model.add(MaxPooling2D(pool_size=(2, 2)))\n",
    "    # add second convolutional layer with 20 filters\n",
    "    model.add(Conv2D(20, (5, 5), activation='relu'))\n",
    "    # apply dropout with rate 0.5\n",
    "    model.add(Dropout(0.25))\n",
    "    # add 2D pooling layer\n",
    "    model.add(MaxPooling2D(pool_size=(4, 4)))\n",
    "    \n",
    "    \n",
    "    # flatten data\n",
    "    model.add(Flatten())\n",
    "    # add a dense all-to-all relu layer\n",
    "    model.add(Dense(20*4*4, activation='relu'))\n",
    "    # apply dropout with rate 0.5\n",
    "    model.add(Dropout(0.25))\n",
    "    # soft-max layer\n",
    "    model.add(Dense(num_classes, activation='softmax'))\n",
    "    # compile the model\n",
    "    model.compile(loss=tensorflow.keras.losses.categorical_crossentropy,\n",
    "                  optimizer='Adam',\n",
    "                  metrics=['accuracy'])\n",
    "    #lil something special to show us our architecture traits\n",
    "    model.summary()\n",
    "    return model"
   ]
  },
  {
   "cell_type": "code",
   "execution_count": 21,
   "metadata": {},
   "outputs": [
    {
     "name": "stdout",
     "output_type": "stream",
     "text": [
      "Model: \"pls\"\n",
      "_________________________________________________________________\n",
      "Layer (type)                 Output Shape              Param #   \n",
      "=================================================================\n",
      "conv2d_2 (Conv2D)            (None, 24, 24, 10)        260       \n",
      "_________________________________________________________________\n",
      "max_pooling2d_2 (MaxPooling2 (None, 12, 12, 10)        0         \n",
      "_________________________________________________________________\n",
      "conv2d_3 (Conv2D)            (None, 8, 8, 20)          5020      \n",
      "_________________________________________________________________\n",
      "dropout_2 (Dropout)          (None, 8, 8, 20)          0         \n",
      "_________________________________________________________________\n",
      "max_pooling2d_3 (MaxPooling2 (None, 2, 2, 20)          0         \n",
      "_________________________________________________________________\n",
      "flatten_1 (Flatten)          (None, 80)                0         \n",
      "_________________________________________________________________\n",
      "dense_2 (Dense)              (None, 320)               25920     \n",
      "_________________________________________________________________\n",
      "dropout_3 (Dropout)          (None, 320)               0         \n",
      "_________________________________________________________________\n",
      "dense_3 (Dense)              (None, 10)                3210      \n",
      "=================================================================\n",
      "Total params: 34,410\n",
      "Trainable params: 34,410\n",
      "Non-trainable params: 0\n",
      "_________________________________________________________________\n",
      "Epoch 1/5\n",
      "1349/1349 [==============================] - 15s 11ms/step - loss: 0.8468 - accuracy: 0.7231 - val_loss: 0.3899 - val_accuracy: 0.8928\n",
      "Epoch 2/5\n",
      "1349/1349 [==============================] - 14s 10ms/step - loss: 0.3445 - accuracy: 0.8943 - val_loss: 0.3110 - val_accuracy: 0.9135\n",
      "Epoch 3/5\n",
      "1349/1349 [==============================] - 14s 10ms/step - loss: 0.2962 - accuracy: 0.9123 - val_loss: 0.2874 - val_accuracy: 0.9163\n",
      "Epoch 4/5\n",
      "1349/1349 [==============================] - 14s 11ms/step - loss: 0.2642 - accuracy: 0.9208 - val_loss: 0.2708 - val_accuracy: 0.9264\n",
      "Epoch 5/5\n",
      "1349/1349 [==============================] - 15s 11ms/step - loss: 0.2432 - accuracy: 0.9269 - val_loss: 0.2407 - val_accuracy: 0.9330\n",
      "843/843 [==============================] - 3s 3ms/step - loss: 0.2371 - accuracy: 0.9330\n",
      "\n",
      "Test loss: 0.237104132771492\n",
      "Test accuracy: 0.9330441355705261\n"
     ]
    }
   ],
   "source": [
    "modelname='pls'\n",
    "\n",
    "# training parameters\n",
    "batch_size = 64\n",
    "epochs = 5\n",
    "\n",
    "# create the deep conv net\n",
    "model_CNN=create_CNN(modelname)\n",
    "\n",
    "# train CNN\n",
    "model_CNN.fit(X_train, Y_train,\n",
    "          batch_size=batch_size,\n",
    "          epochs=epochs,\n",
    "          verbose=1,\n",
    "          validation_data=(X_valid, Y_valid))\n",
    "\n",
    "#evaluate model\n",
    "score = model_CNN.evaluate(X_test, Y_test, verbose=1)\n",
    "\n",
    "# print performance\n",
    "print()\n",
    "print('Test loss:', score[0])\n",
    "print('Test accuracy:', score[1])"
   ]
  },
  {
   "cell_type": "code",
   "execution_count": 56,
   "metadata": {},
   "outputs": [
    {
     "name": "stdout",
     "output_type": "stream",
     "text": [
      "Saved model to disk: C:/Users/Warsh/ML_Notebooks_edited/mlqdproj/models/pls.h5\n"
     ]
    }
   ],
   "source": [
    "#save trained model, make sure you have your path set up for this before running, also figure out your filenames\n",
    "#file saving stuff\n",
    "\n",
    "workdir = str(pathlib.Path().absolute())+'\\\\'\n",
    "saveset=True\n",
    "modelName=modelname\n",
    "if saveset==True:\n",
    "    modpath = workdir+modelName\n",
    "    savfil = modpath\n",
    "    i=1\n",
    "    yeet=False\n",
    "    if os.path.exists(savfil+'.h5')==True:\n",
    "        print(savfil+'.h5 already exists, please choose different name')\n",
    "    else:\n",
    "        model_CNN.save(savfil+'.h5')#the last trained model is called model_CNN\n",
    "        yeet=True\n",
    "        print(\"Saved model to disk: \"+savfil+'.h5')"
   ]
  }
 ],
 "metadata": {
  "kernelspec": {
   "display_name": "Python 3",
   "language": "python",
   "name": "python3"
  },
  "language_info": {
   "codemirror_mode": {
    "name": "ipython",
    "version": 3
   },
   "file_extension": ".py",
   "mimetype": "text/x-python",
   "name": "python",
   "nbconvert_exporter": "python",
   "pygments_lexer": "ipython3",
   "version": "3.7.7"
  }
 },
 "nbformat": 4,
 "nbformat_minor": 4
}
