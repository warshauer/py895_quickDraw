{
 "cells": [
  {
   "cell_type": "code",
   "execution_count": 1,
   "metadata": {},
   "outputs": [
    {
     "name": "stderr",
     "output_type": "stream",
     "text": [
      "Using TensorFlow backend.\n"
     ]
    }
   ],
   "source": [
    "from __future__ import print_function\n",
    "import keras,sklearn\n",
    "# suppress tensorflow compilation warnings\n",
    "import os\n",
    "os.environ['KMP_DUPLICATE_LIB_OK']='True'\n",
    "import tensorflow.compat.v1 as tf\n",
    "os.environ['TF_CPP_MIN_LOG_LEVEL'] = '2'\n",
    "import numpy as np\n",
    "seed=0\n",
    "np.random.seed(seed) # fix random seed\n",
    "tf.compat.v1.set_random_seed(seed)\n",
    "import matplotlib.pyplot as plt\n",
    "import cv2\n",
    "import pickle\n",
    "from sklearn.model_selection import train_test_split\n",
    "from keras.utils import to_categorical\n",
    "from tensorflow.keras import datasets, layers, models\n",
    "from keras.models import Sequential,load_model\n",
    "from keras.layers import Dense, Dropout, Flatten\n",
    "from keras.layers import Conv2D, MaxPooling2D\n",
    "from urllib.request import urlopen \n",
    "import requests\n",
    "import io"
   ]
  },
  {
   "cell_type": "code",
   "execution_count": 2,
   "metadata": {},
   "outputs": [
    {
     "name": "stdout",
     "output_type": "stream",
     "text": [
      "loaded: ['airplane', 'monalisa', 'dragon', 'giraffe', 'axe', 'banana', 'eiffeltower', 'snail', 'windmill', 'snowman']\n"
     ]
    }
   ],
   "source": [
    "all_cat_titles = ['airplane','monalisa','dragon','giraffe','axe','banana','eiffeltower','snail','windmill','snowman','schoolbus','smileyface','lollipop',]\n",
    "\n",
    "img_rows, img_cols = 28, 28 \n",
    "\n",
    "use_dataset_titles = ['X_use','Y_use']\n",
    "ONLYFORFINALCOMPARATIVETEST_DATASETS_DONTYOUFUCKINGTOUCHTHESE = ['X_onlytest','Y_onlytest']\n",
    "#DONT YOU DARE TOUCH THE ONLYTEST FILES.\n",
    "#IF YOU ARE TRAINING A NEURAL NETWORK, TRAIN, VALIDATE, AND TEST FROM THE 'USE' FILES.\n",
    "\n",
    "#load data\n",
    "url_main = 'https://physics.bu.edu/~warsh/ML_QD/'\n",
    "datalib={}\n",
    "\n",
    "#loading samples\n",
    "response = requests.get(url_main + use_dataset_titles[0] +'.npy')\n",
    "response.raise_for_status()\n",
    "data = np.load(io.BytesIO(response.content), allow_pickle=False)\n",
    "data = data.reshape(data.shape[0], img_rows*img_cols)\n",
    "datalib[use_dataset_titles[0]] = data\n",
    "\n",
    "response = requests.get(url_main + use_dataset_titles[1] +'.npy')\n",
    "response.raise_for_status()\n",
    "data = np.load(io.BytesIO(response.content), allow_pickle=False)\n",
    "datalib[use_dataset_titles[1]] = data\n",
    "\n",
    "num_classes = int(max(datalib['Y_use'])+1)\n",
    "cat_titles = all_cat_titles[:num_classes]\n",
    "print('loaded:',cat_titles)"
   ]
  },
  {
   "cell_type": "code",
   "execution_count": 4,
   "metadata": {},
   "outputs": [
    {
     "name": "stdout",
     "output_type": "stream",
     "text": [
      "an example of a data point with label snowman\n"
     ]
    },
    {
     "data": {
      "image/png": "[encoded data removed]",
      "text/plain": [
       "<Figure size 288x288 with 1 Axes>"
      ]
     },
     "metadata": {
      "needs_background": "light"
     },
     "output_type": "display_data"
    },
    {
     "name": "stdout",
     "output_type": "stream",
     "text": [
      "an example of a data point with label airplane\n"
     ]
    },
    {
     "data": {
      "image/png": "[encoded data removed]",
      "text/plain": [
       "<Figure size 288x288 with 1 Axes>"
      ]
     },
     "metadata": {
      "needs_background": "light"
     },
     "output_type": "display_data"
    },
    {
     "name": "stdout",
     "output_type": "stream",
     "text": [
      "X_train shape: (863148, 28, 28, 1)\n",
      "Y_train shape: (863148, 10)\n",
      "X_valid shape: (215787, 28, 28, 1)\n",
      "Y_valid shape: (215787, 10)\n",
      "X_test shape: (269734, 28, 28, 1)\n",
      "Y_test shape: (269734, 10)\n",
      "\n",
      "863148 train samples\n",
      "215787 validation samples\n",
      "269734 test samples\n",
      "1348669 total\n"
     ]
    }
   ],
   "source": [
    "Y_use = datalib['Y_use']\n",
    "X_use = datalib['X_use']\n",
    "\n",
    "#format, delegate, and scale data\n",
    "ratio_use=1\n",
    "#use small portion, randomized already:\n",
    "numosamps = len(Y_use)*ratio_use #number of samples used for train, validation, and testsets\n",
    "test_size=.2 #20% test\n",
    "tr2valr=.8 #64% train, 16% validation\n",
    "num_classes=int(max(Y_use)+1)\n",
    "\n",
    "#scramble and split!\n",
    "X_tr, X_test, Y_tr, Y_test = train_test_split(X_use, Y_use, test_size=test_size, train_size=1.0-test_size)\n",
    "X_train, X_valid, Y_train, Y_valid = train_test_split(X_tr,Y_tr,train_size=tr2valr,test_size=1-tr2valr)\n",
    "\n",
    "#how much we usin'\n",
    "X_train = X_train[0:int(numosamps*(1.0-test_size)*tr2valr)]\n",
    "Y_train = Y_train[0:int(numosamps*(1.0-test_size)*tr2valr)]\n",
    "X_valid = X_valid[0:int(numosamps*(1.0-test_size)*(1.0-tr2valr))]\n",
    "Y_valid = Y_valid[0:int(numosamps*(1.0-test_size)*(1.0-tr2valr))]\n",
    "X_test = X_test[0:int(numosamps*test_size)]\n",
    "Y_test = Y_test[0:int(numosamps*test_size)]\n",
    "\n",
    "#reshape into 2D\n",
    "X_train = X_train.reshape(X_train.shape[0],img_rows,img_cols)\n",
    "X_valid = X_valid.reshape(X_valid.shape[0],img_rows,img_cols)\n",
    "X_test = X_test.reshape(X_test.shape[0],img_rows,img_cols)\n",
    "\n",
    "#yeah okay some floats\n",
    "X_train = X_train.astype('float32')\n",
    "X_valid = X_valid.astype('float32')\n",
    "X_test = X_test.astype('float32')\n",
    "\n",
    "#scale onto the fun zer-O to O-ne inverval\n",
    "X_train /= 255\n",
    "X_valid /= 255\n",
    "X_test /= 255\n",
    "\n",
    "#display some stuff\n",
    "for i in range(2):\n",
    "    print('an example of a data point with label', cat_titles[int(Y_train[i])])\n",
    "    plt.matshow(X_train[i,:],cmap='binary')\n",
    "    plt.show()\n",
    "\n",
    "# converting the actual numbers to the the one-hot vectors\n",
    "Y_train = keras.utils.to_categorical(Y_train, num_classes)\n",
    "Y_test = keras.utils.to_categorical(Y_test, num_classes)\n",
    "Y_valid = keras.utils.to_categorical(Y_valid, num_classes)\n",
    "\n",
    "#reshape data, depending on Keras backend, final data formatting\n",
    "if keras.backend.image_data_format() == 'channels_first':\n",
    "    X_train = X_train.reshape(X_train.shape[0], 1, img_rows, img_cols)\n",
    "    X_test = X_test.reshape(X_test.shape[0], 1, img_rows, img_cols)\n",
    "    X_valid = X_valid.reshape(X_valid.shape[0], 1, img_rows, img_cols)\n",
    "    input_shape = (1, img_rows, img_cols)\n",
    "else:\n",
    "    X_train = X_train.reshape(X_train.shape[0], img_rows, img_cols, 1)\n",
    "    X_test = X_test.reshape(X_test.shape[0], img_rows, img_cols, 1)\n",
    "    X_valid = X_valid.reshape(X_valid.shape[0], img_rows, img_cols,1)\n",
    "    input_shape = (img_rows, img_cols, 1)\n",
    "\n",
    "#more debugging shit\n",
    "print('X_train shape:', X_train.shape)\n",
    "print('Y_train shape:', Y_train.shape)\n",
    "print('X_valid shape:', X_valid.shape)\n",
    "print('Y_valid shape:', Y_valid.shape)\n",
    "print('X_test shape:', X_test.shape)\n",
    "print('Y_test shape:', Y_test.shape)\n",
    "print()\n",
    "print(X_train.shape[0], 'train samples')\n",
    "print(X_valid.shape[0], 'validation samples')\n",
    "print(X_test.shape[0], 'test samples')\n",
    "\n",
    "print(X_train.shape[0]+X_valid.shape[0]+X_test.shape[0], 'total')"
   ]
  },
  {
   "cell_type": "code",
   "execution_count": 40,
   "metadata": {},
   "outputs": [],
   "source": [
    "#CNN pulled straight from Prof's NBs\n",
    "\n",
    "def create_CNN():\n",
    "    # instantiate model\n",
    "    model = Sequential()\n",
    "    # add first convolutional layer with 10 filters (dimensionality of output space)\n",
    "    model.add(Conv2D(10, kernel_size=(5, 5),\n",
    "                     activation='relu',\n",
    "                     input_shape=input_shape))\n",
    "    # add 2D pooling layer\n",
    "    model.add(MaxPooling2D(pool_size=(2, 2)))\n",
    "    # add second convolutional layer with 20 filters\n",
    "    model.add(Conv2D(20, (5, 5), activation='relu'))\n",
    "    # apply dropout with rate 0.5\n",
    "    model.add(Dropout(0.25))\n",
    "    # add 2D pooling layer\n",
    "    model.add(MaxPooling2D(pool_size=(4, 4)))\n",
    "    \n",
    "    \n",
    "    # flatten data\n",
    "    model.add(Flatten())\n",
    "    # add a dense all-to-all relu layer\n",
    "    model.add(Dense(20*4*4, activation='relu'))\n",
    "    # apply dropout with rate 0.5\n",
    "    model.add(Dropout(0.25))\n",
    "    # soft-max layer\n",
    "    model.add(Dense(num_classes, activation='softmax'))\n",
    "    \n",
    "    # compile the model\n",
    "    model.compile(loss=keras.losses.categorical_crossentropy,\n",
    "                  optimizer='Adam',\n",
    "                  metrics=['accuracy'])\n",
    "    #lil something special to show us our architecture traits\n",
    "    model.summary()\n",
    "    return model"
   ]
  },
  {
   "cell_type": "code",
   "execution_count": 55,
   "metadata": {},
   "outputs": [
    {
     "name": "stdout",
     "output_type": "stream",
     "text": [
      "Model: \"sequential_3\"\n",
      "_________________________________________________________________\n",
      "Layer (type)                 Output Shape              Param #   \n",
      "=================================================================\n",
      "conv2d_5 (Conv2D)            (None, 24, 24, 10)        260       \n",
      "_________________________________________________________________\n",
      "max_pooling2d_5 (MaxPooling2 (None, 12, 12, 10)        0         \n",
      "_________________________________________________________________\n",
      "conv2d_6 (Conv2D)            (None, 8, 8, 20)          5020      \n",
      "_________________________________________________________________\n",
      "dropout_5 (Dropout)          (None, 8, 8, 20)          0         \n",
      "_________________________________________________________________\n",
      "max_pooling2d_6 (MaxPooling2 (None, 2, 2, 20)          0         \n",
      "_________________________________________________________________\n",
      "flatten_3 (Flatten)          (None, 80)                0         \n",
      "_________________________________________________________________\n",
      "dense_5 (Dense)              (None, 320)               25920     \n",
      "_________________________________________________________________\n",
      "dropout_6 (Dropout)          (None, 320)               0         \n",
      "_________________________________________________________________\n",
      "dense_6 (Dense)              (None, 10)                3210      \n",
      "=================================================================\n",
      "Total params: 34,410\n",
      "Trainable params: 34,410\n",
      "Non-trainable params: 0\n",
      "_________________________________________________________________\n",
      "Train on 8631 samples, validate on 2157 samples\n",
      "Epoch 1/2\n",
      "8631/8631 [==============================] - 8s 921us/step - loss: 1.3115 - accuracy: 0.5496 - val_loss: 0.8267 - val_accuracy: 0.7473\n",
      "Epoch 2/2\n",
      "8631/8631 [==============================] - 7s 859us/step - loss: 0.6728 - accuracy: 0.7828 - val_loss: 0.6347 - val_accuracy: 0.8248\n",
      "2697/2697 [==============================] - 1s 320us/step\n",
      "\n",
      "Test loss: 0.6113277724110112\n",
      "Test accuracy: 0.836114227771759\n"
     ]
    }
   ],
   "source": [
    "modelname='pls'\n",
    "\n",
    "# training parameters\n",
    "batch_size = 64\n",
    "epochs = 2\n",
    "\n",
    "# create the deep conv net\n",
    "model_CNN=create_CNN()\n",
    "\n",
    "# train CNN\n",
    "model_CNN.fit(X_train, Y_train,\n",
    "          batch_size=batch_size,\n",
    "          epochs=epochs,\n",
    "          verbose=1,\n",
    "          validation_data=(X_valid, Y_valid))\n",
    "\n",
    "#evaluate model\n",
    "score = model_CNN.evaluate(X_test, Y_test, verbose=1)\n",
    "\n",
    "# print performance\n",
    "print()\n",
    "print('Test loss:', score[0])\n",
    "print('Test accuracy:', score[1])"
   ]
  },
  {
   "cell_type": "code",
   "execution_count": 56,
   "metadata": {},
   "outputs": [
    {
     "name": "stdout",
     "output_type": "stream",
     "text": [
      "Saved model to disk: C:/Users/Warsh/ML_Notebooks_edited/mlqdproj/models/pls.h5\n"
     ]
    }
   ],
   "source": [
    "#save trained model, make sure you have your path set up for this before running, also figure out your filenames\n",
    "#file saving stuff\n",
    "filedir = 'C:/Users/Warsh/ML_Notebooks_edited/mlqdproj/'\n",
    "fileext = 'models/'\n",
    "saveset=True\n",
    "modelName=modelname\n",
    "if saveset==True:\n",
    "    modpath = filedir+fileext+modelName\n",
    "    savfil = modpath\n",
    "    i=1\n",
    "    yeet=False\n",
    "    if os.path.exists(savfil+'.h5')==True:\n",
    "        print(savfil+'.h5 already exists, please choose different name')\n",
    "    else:\n",
    "        model_CNN.save(savfil+'.h5')#the last trained model is called model_CNN\n",
    "        yeet=True\n",
    "        print(\"Saved model to disk: \"+savfil+'.h5')"
   ]
  },
  {
   "cell_type": "code",
   "execution_count": 58,
   "metadata": {},
   "outputs": [
    {
     "name": "stdout",
     "output_type": "stream",
     "text": [
      "2697/2697 [==============================] - 1s 331us/step\n",
      "2697/2697 [==============================] - 1s 336us/step\n",
      "2697/2697 [==============================] - 1s 331us/step\n",
      "               500perkil 1ep  500perkil 2ep   pls\n",
      "    Test loss: 0.22396112 0.22396112 0.61132777\n",
      "Test accuracy: 0.941787183285 0.941787183285 0.83611423\n"
     ]
    }
   ],
   "source": [
    "#loading trained models to evaluate on the same test sets and compare, make sure your paths are chill before running\n",
    "#totally also make sure you scramble the test part of the X_use and Y_use before you compare otherwise thats just not chill bro.\n",
    "#also dont you dare touch my special only touch datasets, we save those bad boys for when we compare our final trained models\n",
    "\n",
    "#load from internet\n",
    "url_main = 'https://physics.bu.edu/~warsh/ML_QD/'\n",
    "modelfile = '500perkil_1epoch.h5'\n",
    "response = requests.get(url_main + modelfile)\n",
    "response.raise_for_status()\n",
    "model_500perkil = load_model(io.BytesIO(response.content))\n",
    "\n",
    "url_main = 'https://physics.bu.edu/~warsh/ML_QD/'\n",
    "modelfile = '500perkil_2epoch.h5'\n",
    "response = requests.get(url_main + modelfile)\n",
    "response.raise_for_status()\n",
    "model_500perkil2 = load_model(io.BytesIO(response.content))\n",
    "\n",
    "#load from local drive\n",
    "filedir = 'C:/Users/Warsh/ML_Notebooks_edited/mlqdproj/'\n",
    "fileext = 'models/'\n",
    "modelfile = 'pls.h5'\n",
    "model_pls = load_model(filedir+fileext+modelfile)\n",
    "\n",
    "#evaluate models - note: loaded test set must have same expected samples as the trained set\n",
    "score500perkil = model_500perkil.evaluate(X_test, Y_test, verbose=1)\n",
    "score500perkil2 = model_500perkil2.evaluate(X_test, Y_test, verbose=1)\n",
    "scorepls = model_pls.evaluate(X_test, Y_test, verbose=1)\n",
    "\n",
    "print('               500perkil 1ep  500perkil 2ep   pls')\n",
    "print('    Test loss: %.8f'%score500perkil[0] + ' %.8f'%score500perkil[0] + ' %.8f'%scorepls[0])\n",
    "print('Test accuracy: %.12f'%score500perkil2[1] + ' %.12f'%score500perkil2[1] + ' %.8f'%scorepls[1])"
   ]
  },
  {
   "cell_type": "code",
   "execution_count": null,
   "metadata": {},
   "outputs": [],
   "source": []
  }
 ],
 "metadata": {
  "kernelspec": {
   "display_name": "Python 3",
   "language": "python",
   "name": "python3"
  },
  "language_info": {
   "codemirror_mode": {
    "name": "ipython",
    "version": 3
   },
   "file_extension": ".py",
   "mimetype": "text/x-python",
   "name": "python",
   "nbconvert_exporter": "python",
   "pygments_lexer": "ipython3",
   "version": "3.7.7"
  }
 },
 "nbformat": 4,
 "nbformat_minor": 4
}
