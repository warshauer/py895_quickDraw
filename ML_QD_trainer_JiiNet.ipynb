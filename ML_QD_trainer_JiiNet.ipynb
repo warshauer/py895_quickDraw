{
  "nbformat": 4,
  "nbformat_minor": 0,
  "metadata": {
    "kernelspec": {
      "display_name": "Python 3",
      "language": "python",
      "name": "python3"
    },
    "language_info": {
      "codemirror_mode": {
        "name": "ipython",
        "version": 3
      },
      "file_extension": ".py",
      "mimetype": "text/x-python",
      "name": "python",
      "nbconvert_exporter": "python",
      "pygments_lexer": "ipython3",
      "version": "3.8.2"
    },
    "colab": {
      "name": "ML_QD_trainer_JiiNet.ipynb",
      "provenance": [],
      "collapsed_sections": [],
      "include_colab_link": true
    },
    "accelerator": "GPU"
  },
  "cells": [
    {
      "cell_type": "markdown",
      "metadata": {
        "id": "view-in-github",
        "colab_type": "text"
      },
      "source": [
        "<a href=\"https://colab.research.google.com/github/warshauer/py895_quickDraw/blob/main/ML_QD_trainer_JiiNet.ipynb\" target=\"_parent\"><img src=\"https://colab.research.google.com/assets/colab-badge.svg\" alt=\"Open In Colab\"/></a>"
      ]
    },
    {
      "cell_type": "code",
      "metadata": {
        "id": "j0hwkXIUB5z-",
        "colab": {
          "base_uri": "https://localhost:8080/",
          "height": 37
        },
        "outputId": "7863cf00-a217-45bc-fce5-9fce24f30c02"
      },
      "source": [
        "import tensorflow as tf\n",
        "tf.__version__"
      ],
      "execution_count": null,
      "outputs": [
        {
          "output_type": "execute_result",
          "data": {
            "application/vnd.google.colaboratory.intrinsic+json": {
              "type": "string"
            },
            "text/plain": [
              "'2.3.0'"
            ]
          },
          "metadata": {
            "tags": []
          },
          "execution_count": 1
        }
      ]
    },
    {
      "cell_type": "code",
      "metadata": {
        "id": "YXwxLLCV1U7P"
      },
      "source": [
        "from __future__ import print_function\n",
        "import keras,sklearn\n",
        "# suppress tensorflow compilation warnings\n",
        "import os\n",
        "os.environ['KMP_DUPLICATE_LIB_OK']='True'\n",
        "import tensorflow.compat.v1 as tf\n",
        "os.environ['TF_CPP_MIN_LOG_LEVEL'] = '2'\n",
        "import numpy as np\n",
        "seed=0\n",
        "np.random.seed(seed) # fix random seed\n",
        "tf.set_random_seed(seed)\n",
        "import matplotlib.pyplot as plt\n",
        "import cv2\n",
        "import pickle\n",
        "from sklearn.model_selection import train_test_split\n",
        "from keras.utils import to_categorical\n",
        "from tensorflow.keras import datasets, layers, models\n",
        "from keras.models import Sequential,load_model\n",
        "from keras.layers import Dense, Dropout, Flatten\n",
        "from keras.layers import Conv2D, MaxPooling2D\n",
        "from urllib.request import urlopen \n",
        "import requests\n",
        "import io\n",
        "from sklearn.model_selection import GridSearchCV\n",
        "from keras.wrappers.scikit_learn import KerasClassifier"
      ],
      "execution_count": null,
      "outputs": []
    },
    {
      "cell_type": "code",
      "metadata": {
        "colab": {
          "base_uri": "https://localhost:8080/"
        },
        "id": "2e5E8mMA1U7W",
        "outputId": "5ed51e1d-2be7-4f13-8dd4-df9d668115a6"
      },
      "source": [
        "all_cat_titles = ['airplane','monalisa','dragon','giraffe','axe','banana','eiffeltower','snail','windmill','snowman','schoolbus','smileyface','lollipop',]\n",
        "\n",
        "img_rows, img_cols = 28, 28 \n",
        "\n",
        "use_dataset_titles = ['X_use','Y_use']\n",
        "ONLYFORFINALCOMPARATIVETEST_DATASETS_DONTYOUFUCKINGTOUCHTHESE = ['X_onlytest','Y_onlytest']\n",
        "#DONT YOU DARE TOUCH THE ONLYTEST FILES.\n",
        "#IF YOU ARE TRAINING A NEURAL NETWORK, TRAIN, VALIDATE, AND TEST FROM THE 'USE' FILES.\n",
        "\n",
        "#load data\n",
        "url_main = 'https://physics.bu.edu/~warsh/ML_QD/'\n",
        "datalib={}\n",
        "\n",
        "#loading samples\n",
        "response = requests.get(url_main + use_dataset_titles[0] +'.npy')\n",
        "response.raise_for_status()\n",
        "data = np.load(io.BytesIO(response.content), allow_pickle=False)\n",
        "data = data.reshape(data.shape[0], img_rows*img_cols)\n",
        "datalib[use_dataset_titles[0]] = data\n",
        "\n",
        "response = requests.get(url_main + use_dataset_titles[1] +'.npy')\n",
        "response.raise_for_status()\n",
        "data = np.load(io.BytesIO(response.content), allow_pickle=False)\n",
        "datalib[use_dataset_titles[1]] = data\n",
        "\n",
        "num_classes = int(max(datalib['Y_use'])+1)\n",
        "cat_titles = all_cat_titles[:num_classes]\n",
        "print('loaded:',cat_titles)"
      ],
      "execution_count": null,
      "outputs": [
        {
          "output_type": "stream",
          "text": [
            "loaded: ['airplane', 'monalisa', 'dragon', 'giraffe', 'axe', 'banana', 'eiffeltower', 'snail', 'windmill', 'snowman']\n"
          ],
          "name": "stdout"
        }
      ]
    },
    {
      "cell_type": "code",
      "metadata": {
        "colab": {
          "base_uri": "https://localhost:8080/",
          "height": 754
        },
        "id": "EddO6HPW1U7Y",
        "outputId": "319c200f-704c-4698-eb3c-6ff7e582c9a2"
      },
      "source": [
        "Y_use = datalib['Y_use']\n",
        "X_use = datalib['X_use']\n",
        "\n",
        "#format, delegate, and scale data\n",
        "ratio_use=1\n",
        "#use small portion, randomized already:\n",
        "numosamps = len(Y_use)*ratio_use #number of samples used for train, validation, and testsets\n",
        "test_size=.2 #20% test\n",
        "tr2valr=.8 #64% train, 16% validation\n",
        "num_classes=int(max(Y_use)+1)\n",
        "\n",
        "#scramble and split!\n",
        "X_tr, X_test, Y_tr, Y_test = train_test_split(X_use, Y_use, test_size=test_size, train_size=1.0-test_size)\n",
        "X_train, X_valid, Y_train, Y_valid = train_test_split(X_tr,Y_tr,train_size=tr2valr,test_size=1-tr2valr)\n",
        "\n",
        "#how much we usin'\n",
        "X_train = X_train[0:int(numosamps*(1.0-test_size)*tr2valr)]\n",
        "Y_train = Y_train[0:int(numosamps*(1.0-test_size)*tr2valr)]\n",
        "X_valid = X_valid[0:int(numosamps*(1.0-test_size)*(1.0-tr2valr))]\n",
        "Y_valid = Y_valid[0:int(numosamps*(1.0-test_size)*(1.0-tr2valr))]\n",
        "X_test = X_test[0:int(numosamps*test_size)]\n",
        "Y_test = Y_test[0:int(numosamps*test_size)]\n",
        "\n",
        "#reshape into 2D\n",
        "X_train = X_train.reshape(X_train.shape[0],img_rows,img_cols)\n",
        "X_valid = X_valid.reshape(X_valid.shape[0],img_rows,img_cols)\n",
        "X_test = X_test.reshape(X_test.shape[0],img_rows,img_cols)\n",
        "\n",
        "#yeah okay some floats\n",
        "X_train = X_train.astype('float32')\n",
        "X_valid = X_valid.astype('float32')\n",
        "X_test = X_test.astype('float32')\n",
        "\n",
        "#scale onto the fun zer-O to O-ne inverval\n",
        "X_train /= 255\n",
        "X_valid /= 255\n",
        "X_test /= 255\n",
        "\n",
        "#display some stuff\n",
        "for i in range(2):\n",
        "    print('an example of a data point with label', cat_titles[int(Y_train[i])])\n",
        "    plt.matshow(X_train[i,:],cmap='binary')\n",
        "    plt.show()\n",
        "\n",
        "# converting the actual numbers to the the one-hot vectors\n",
        "Y_train = keras.utils.to_categorical(Y_train, num_classes)\n",
        "Y_test = keras.utils.to_categorical(Y_test, num_classes)\n",
        "Y_valid = keras.utils.to_categorical(Y_valid, num_classes)\n",
        "\n",
        "#reshape data, depending on Keras backend, final data formatting\n",
        "if keras.backend.image_data_format() == 'channels_first':\n",
        "    X_train = X_train.reshape(X_train.shape[0], 1, img_rows, img_cols)\n",
        "    X_test = X_test.reshape(X_test.shape[0], 1, img_rows, img_cols)\n",
        "    X_valid = X_valid.reshape(X_valid.shape[0], 1, img_rows, img_cols)\n",
        "    input_shape = (1, img_rows, img_cols)\n",
        "else:\n",
        "    X_train = X_train.reshape(X_train.shape[0], img_rows, img_cols, 1)\n",
        "    X_test = X_test.reshape(X_test.shape[0], img_rows, img_cols, 1)\n",
        "    X_valid = X_valid.reshape(X_valid.shape[0], img_rows, img_cols,1)\n",
        "    input_shape = (img_rows, img_cols, 1)\n",
        "\n",
        "#more debugging shit\n",
        "print('X_train shape:', X_train.shape)\n",
        "print('Y_train shape:', Y_train.shape)\n",
        "print('X_valid shape:', X_valid.shape)\n",
        "print('Y_valid shape:', Y_valid.shape)\n",
        "print('X_test shape:', X_test.shape)\n",
        "print('Y_test shape:', Y_test.shape)\n",
        "print()\n",
        "print(X_train.shape[0], 'train samples')\n",
        "print(X_valid.shape[0], 'validation samples')\n",
        "print(X_test.shape[0], 'test samples')\n",
        "\n",
        "print(X_train.shape[0]+X_valid.shape[0]+X_test.shape[0], 'total')"
      ],
      "execution_count": null,
      "outputs": [
        {
          "output_type": "stream",
          "text": [
            "an example of a data point with label banana\n"
          ],
          "name": "stdout"
        },
        {
          "output_type": "display_data",
          "data": {
            "image/png": "[encoded data removed]",
            "text/plain": [
              "<Figure size 288x288 with 1 Axes>"
            ]
          },
          "metadata": {
            "tags": [],
            "needs_background": "light"
          }
        },
        {
          "output_type": "stream",
          "text": [
            "an example of a data point with label airplane\n"
          ],
          "name": "stdout"
        },
        {
          "output_type": "display_data",
          "data": {
            "image/png": "[encoded data removed]",
            "text/plain": [
              "<Figure size 288x288 with 1 Axes>"
            ]
          },
          "metadata": {
            "tags": [],
            "needs_background": "light"
          }
        },
        {
          "output_type": "stream",
          "text": [
            "X_train shape: (863148, 28, 28, 1)\n",
            "Y_train shape: (863148, 10)\n",
            "X_valid shape: (215787, 28, 28, 1)\n",
            "Y_valid shape: (215787, 10)\n",
            "X_test shape: (269734, 28, 28, 1)\n",
            "Y_test shape: (269734, 10)\n",
            "\n",
            "863148 train samples\n",
            "215787 validation samples\n",
            "269734 test samples\n",
            "1348669 total\n"
          ],
          "name": "stdout"
        }
      ]
    },
    {
      "cell_type": "code",
      "metadata": {
        "id": "ZdyG2s4N8izd"
      },
      "source": [
        "import numpy\n",
        "from sklearn.model_selection import GridSearchCV\n",
        "from keras.models import Sequential\n",
        "from keras.layers import Dense\n",
        "from keras.wrappers.scikit_learn import KerasClassifier\n",
        "\n",
        "# Function to create model, required for KerasClassifier\n",
        "def create_model():\n",
        "    # instantiate model\n",
        "    model = Sequential()\n",
        "    # add first convolutional layer with 10 filters (dimensionality of output space)\n",
        "    model.add(Conv2D(64, kernel_size=(3, 3), strides = 1,\n",
        "                     activation='relu',\n",
        "                     input_shape=input_shape))\n",
        "    model.add(MaxPooling2D(pool_size=(3, 3), strides = 2, padding='same'))\n",
        "    # apply dropout with rate 0.4\n",
        "    model.add(Dropout(0.2))\n",
        "    \n",
        "    model.add(Conv2D(64, kernel_size=(3, 3),\n",
        "                     activation='relu',\n",
        "                     input_shape=input_shape))\n",
        "    model.add(MaxPooling2D(pool_size=(2, 2), padding='same'))\n",
        "    # apply dropout with rate 0.4\n",
        "    model.add(Dropout(0.2))\n",
        "    \n",
        "    # flatten data\n",
        "    model.add(Flatten())\n",
        "    # add a dense all-to-all relu layer\n",
        "    model.add(Dense(800, activation='relu'))\n",
        "    model.add(Dropout(0.4))\n",
        "    # soft-max layer\n",
        "    model.add(Dense(num_classes, activation='softplus'))\n",
        "    \n",
        "    # compile the model\n",
        "    model.compile(loss=keras.losses.categorical_crossentropy,\n",
        "                  optimizer='Adam',\n",
        "                  metrics=['accuracy'])\n",
        "    #lil something special to show us our architecture traits\n",
        "    model.summary()\n",
        "    print('Model is compiled and ready to train!')\n",
        "    return model \n",
        "    "
      ],
      "execution_count": null,
      "outputs": []
    },
    {
      "cell_type": "code",
      "metadata": {
        "id": "JE-gnMI61U7Z"
      },
      "source": [
        "# create model\n",
        "model = KerasClassifier(build_fn=create_model, verbose=0)\n",
        "# define the grid search parameters\n",
        "batch_size = [10, 20, 40, 60, 80, 100]\n",
        "epochs = [10, 50, 100]\n",
        "param_grid = dict(batch_size=batch_size, epochs=epochs)\n",
        "grid = GridSearchCV(estimator=model, param_grid=param_grid, n_jobs=-1, cv=3, verbose=2)\n",
        "grid_result = grid.fit(X_train, Y_train)\n",
        "# summarize results\n",
        "print(\"Best: %f using %s\" % (grid_result.best_score_, grid_result.best_params_))\n",
        "means = grid_result.cv_results_['mean_test_score']\n",
        "stds = grid_result.cv_results_['std_test_score']\n",
        "params = grid_result.cv_results_['params']\n",
        "for mean, stdev, param in zip(means, stds, params):\n",
        "    print(\"%f (%f) with: %r\" % (mean, stdev, param))"
      ],
      "execution_count": null,
      "outputs": []
    },
    {
      "cell_type": "code",
      "metadata": {
        "colab": {
          "base_uri": "https://localhost:8080/"
        },
        "id": "zPh1K1Rh1U7c",
        "outputId": "58760256-11fe-4c4b-968d-3099d8c221eb"
      },
      "source": [
        "#create model\n",
        "model = KerasClassifier(build_fn=create_model, epochs=5, batch_size=100, verbose=0)\n",
        "# define the grid search parameters\n",
        "optimizer = ['SGD', 'RMSprop', 'Adagrad', 'Adadelta', 'Adam', 'Adamax', 'Nadam']\n",
        "param_grid = dict(optimizer=optimizer)\n",
        "grid = GridSearchCV(estimator=model, param_grid=param_grid, n_jobs=-1, cv=3)\n",
        "grid_result = grid.fit(X_train, Y_train)\n",
        "# summarize results\n",
        "print(\"Best: %f using %s\" % (grid_result.best_score_, grid_result.best_params_))\n",
        "means = grid_result.cv_results_['mean_test_score']\n",
        "stds = grid_result.cv_results_['std_test_score']\n",
        "params = grid_result.cv_results_['params']\n",
        "for mean, stdev, param in zip(means, stds, params):\n",
        "    print(\"%f (%f) with: %r\" % (mean, stdev, param))"
      ],
      "execution_count": null,
      "outputs": [
        {
          "output_type": "stream",
          "text": [
            "Model: \"sequential_1\"\n",
            "_________________________________________________________________\n",
            "Layer (type)                 Output Shape              Param #   \n",
            "=================================================================\n",
            "conv2d_2 (Conv2D)            (None, 26, 26, 64)        640       \n",
            "_________________________________________________________________\n",
            "max_pooling2d_2 (MaxPooling2 (None, 13, 13, 64)        0         \n",
            "_________________________________________________________________\n",
            "dropout_3 (Dropout)          (None, 13, 13, 64)        0         \n",
            "_________________________________________________________________\n",
            "conv2d_3 (Conv2D)            (None, 11, 11, 32)        18464     \n",
            "_________________________________________________________________\n",
            "max_pooling2d_3 (MaxPooling2 (None, 6, 6, 32)          0         \n",
            "_________________________________________________________________\n",
            "dropout_4 (Dropout)          (None, 6, 6, 32)          0         \n",
            "_________________________________________________________________\n",
            "flatten_1 (Flatten)          (None, 1152)              0         \n",
            "_________________________________________________________________\n",
            "dense_2 (Dense)              (None, 800)               922400    \n",
            "_________________________________________________________________\n",
            "dropout_5 (Dropout)          (None, 800)               0         \n",
            "_________________________________________________________________\n",
            "dense_3 (Dense)              (None, 10)                8010      \n",
            "=================================================================\n",
            "Total params: 949,514\n",
            "Trainable params: 949,514\n",
            "Non-trainable params: 0\n",
            "_________________________________________________________________\n",
            "Model is compiled and ready to train!\n",
            "Best: 0.890974 using {'optimizer': 'Adam'}\n",
            "0.599004 (0.020296) with: {'optimizer': 'SGD'}\n",
            "0.885645 (0.006969) with: {'optimizer': 'RMSprop'}\n",
            "0.302051 (0.018329) with: {'optimizer': 'Adagrad'}\n",
            "0.197775 (0.023318) with: {'optimizer': 'Adadelta'}\n",
            "0.890974 (0.002380) with: {'optimizer': 'Adam'}\n",
            "0.856216 (0.004400) with: {'optimizer': 'Adamax'}\n",
            "0.880547 (0.007097) with: {'optimizer': 'Nadam'}\n"
          ],
          "name": "stdout"
        }
      ]
    },
    {
      "cell_type": "code",
      "metadata": {
        "colab": {
          "base_uri": "https://localhost:8080/"
        },
        "id": "CFVsTaUM9Tx5",
        "outputId": "4cddb93c-3009-46ec-88c5-343f0bb6b37f"
      },
      "source": [
        "# create model\n",
        "model = KerasClassifier(build_fn=create_model, epochs=5, batch_size=100, verbose=0)\n",
        "# define the grid search parameters\n",
        "activation = ['softmax', 'softplus', 'softsign', 'relu', 'tanh', 'sigmoid', 'hard_sigmoid', 'linear']\n",
        "param_grid = dict(activation=activation)\n",
        "grid = GridSearchCV(estimator=model, param_grid=param_grid, n_jobs=-1, cv=3)\n",
        "grid_result = grid.fit(X_train, Y_train)\n",
        "# summarize results\n",
        "print(\"Best: %f using %s\" % (grid_result.best_score_, grid_result.best_params_))\n",
        "means = grid_result.cv_results_['mean_test_score']\n",
        "stds = grid_result.cv_results_['std_test_score']\n",
        "params = grid_result.cv_results_['params']\n",
        "for mean, stdev, param in zip(means, stds, params):\n",
        "    print(\"%f (%f) with: %r\" % (mean, stdev, param))"
      ],
      "execution_count": null,
      "outputs": [
        {
          "output_type": "stream",
          "text": [
            "Model: \"sequential_2\"\n",
            "_________________________________________________________________\n",
            "Layer (type)                 Output Shape              Param #   \n",
            "=================================================================\n",
            "conv2d_4 (Conv2D)            (None, 26, 26, 64)        640       \n",
            "_________________________________________________________________\n",
            "max_pooling2d_4 (MaxPooling2 (None, 13, 13, 64)        0         \n",
            "_________________________________________________________________\n",
            "dropout_6 (Dropout)          (None, 13, 13, 64)        0         \n",
            "_________________________________________________________________\n",
            "conv2d_5 (Conv2D)            (None, 11, 11, 32)        18464     \n",
            "_________________________________________________________________\n",
            "max_pooling2d_5 (MaxPooling2 (None, 6, 6, 32)          0         \n",
            "_________________________________________________________________\n",
            "dropout_7 (Dropout)          (None, 6, 6, 32)          0         \n",
            "_________________________________________________________________\n",
            "flatten_2 (Flatten)          (None, 1152)              0         \n",
            "_________________________________________________________________\n",
            "dense_4 (Dense)              (None, 800)               922400    \n",
            "_________________________________________________________________\n",
            "dropout_8 (Dropout)          (None, 800)               0         \n",
            "_________________________________________________________________\n",
            "dense_5 (Dense)              (None, 10)                8010      \n",
            "=================================================================\n",
            "Total params: 949,514\n",
            "Trainable params: 949,514\n",
            "Non-trainable params: 0\n",
            "_________________________________________________________________\n",
            "Model is compiled and ready to train!\n",
            "Best: 0.890163 using {'activation': 'softplus'}\n",
            "0.883791 (0.006772) with: {'activation': 'softmax'}\n",
            "0.890163 (0.002143) with: {'activation': 'softplus'}\n",
            "0.186073 (0.092646) with: {'activation': 'softsign'}\n",
            "0.608968 (0.159799) with: {'activation': 'relu'}\n",
            "0.092110 (0.027335) with: {'activation': 'tanh'}\n",
            "0.887962 (0.003571) with: {'activation': 'sigmoid'}\n",
            "0.735488 (0.015521) with: {'activation': 'hard_sigmoid'}\n",
            "0.154791 (0.053239) with: {'activation': 'linear'}\n"
          ],
          "name": "stdout"
        }
      ]
    },
    {
      "cell_type": "code",
      "metadata": {
        "colab": {
          "base_uri": "https://localhost:8080/"
        },
        "id": "sBNCuKfj97Mu",
        "outputId": "711a0220-6159-4d59-d87a-b28e9a39383f"
      },
      "source": [
        "# create model\n",
        "model = KerasClassifier(build_fn=create_model, epochs=5, batch_size=100, verbose=0)\n",
        "# define the grid search parameters\n",
        "neurons = [1, 5, 10, 15, 20, 25, 30, 32, 64]\n",
        "param_grid = dict(neurons=neurons)\n",
        "grid = GridSearchCV(estimator=model, param_grid=param_grid, n_jobs=-1, cv=3)\n",
        "grid_result = grid.fit(X_train, Y_train)\n",
        "# summarize results\n",
        "print(\"Best: %f using %s\" % (grid_result.best_score_, grid_result.best_params_))\n",
        "means = grid_result.cv_results_['mean_test_score']\n",
        "stds = grid_result.cv_results_['std_test_score']\n",
        "params = grid_result.cv_results_['params']\n",
        "for mean, stdev, param in zip(means, stds, params):\n",
        "    print(\"%f (%f) with: %r\" % (mean, stdev, param))"
      ],
      "execution_count": null,
      "outputs": [
        {
          "output_type": "stream",
          "text": [
            "Model: \"sequential_5\"\n",
            "_________________________________________________________________\n",
            "Layer (type)                 Output Shape              Param #   \n",
            "=================================================================\n",
            "conv2d_10 (Conv2D)           (None, 26, 26, 64)        640       \n",
            "_________________________________________________________________\n",
            "max_pooling2d_10 (MaxPooling (None, 13, 13, 64)        0         \n",
            "_________________________________________________________________\n",
            "dropout_15 (Dropout)         (None, 13, 13, 64)        0         \n",
            "_________________________________________________________________\n",
            "conv2d_11 (Conv2D)           (None, 11, 11, 64)        36928     \n",
            "_________________________________________________________________\n",
            "max_pooling2d_11 (MaxPooling (None, 6, 6, 64)          0         \n",
            "_________________________________________________________________\n",
            "dropout_16 (Dropout)         (None, 6, 6, 64)          0         \n",
            "_________________________________________________________________\n",
            "flatten_5 (Flatten)          (None, 2304)              0         \n",
            "_________________________________________________________________\n",
            "dense_10 (Dense)             (None, 800)               1844000   \n",
            "_________________________________________________________________\n",
            "dropout_17 (Dropout)         (None, 800)               0         \n",
            "_________________________________________________________________\n",
            "dense_11 (Dense)             (None, 10)                8010      \n",
            "=================================================================\n",
            "Total params: 1,889,578\n",
            "Trainable params: 1,889,578\n",
            "Non-trainable params: 0\n",
            "_________________________________________________________________\n",
            "Model is compiled and ready to train!\n",
            "Best: 0.896536 using {'neurons': 64}\n",
            "0.734793 (0.021541) with: {'neurons': 1}\n",
            "0.852624 (0.008659) with: {'neurons': 5}\n",
            "0.874290 (0.004116) with: {'neurons': 10}\n",
            "0.873016 (0.002637) with: {'neurons': 15}\n",
            "0.881358 (0.009267) with: {'neurons': 20}\n",
            "0.889932 (0.001890) with: {'neurons': 25}\n",
            "0.888425 (0.007444) with: {'neurons': 30}\n",
            "0.888194 (0.005982) with: {'neurons': 32}\n",
            "0.896536 (0.003693) with: {'neurons': 64}\n"
          ],
          "name": "stdout"
        }
      ]
    },
    {
      "cell_type": "code",
      "metadata": {
        "colab": {
          "base_uri": "https://localhost:8080/"
        },
        "id": "wGshotKk_Xwi",
        "outputId": "c8c8a140-d135-4084-b4e9-98e96e82d77a"
      },
      "source": [
        "modelname='JiiNet'\n",
        "\n",
        "# training parameters\n",
        "batch_size = 500\n",
        "epochs = 30\n",
        "\n",
        "# create the deep conv net\n",
        "model_CNN=create_model()\n",
        "\n",
        "# train CNN\n",
        "model_CNN.fit(X_train, Y_train,\n",
        "          batch_size=batch_size,\n",
        "          epochs=epochs,\n",
        "          verbose=1,\n",
        "          validation_data=(X_valid, Y_valid))\n",
        "\n",
        "#evaluate model\n",
        "score = model_CNN.evaluate(X_test, Y_test, verbose=1)\n",
        "\n",
        "# print performance\n",
        "print()\n",
        "print('Test loss:', score[0])\n",
        "print('Test accuracy:', score[1])"
      ],
      "execution_count": null,
      "outputs": [
        {
          "output_type": "stream",
          "text": [
            "Model: \"sequential\"\n",
            "_________________________________________________________________\n",
            "Layer (type)                 Output Shape              Param #   \n",
            "=================================================================\n",
            "conv2d (Conv2D)              (None, 26, 26, 64)        640       \n",
            "_________________________________________________________________\n",
            "max_pooling2d (MaxPooling2D) (None, 13, 13, 64)        0         \n",
            "_________________________________________________________________\n",
            "dropout (Dropout)            (None, 13, 13, 64)        0         \n",
            "_________________________________________________________________\n",
            "conv2d_1 (Conv2D)            (None, 11, 11, 64)        36928     \n",
            "_________________________________________________________________\n",
            "max_pooling2d_1 (MaxPooling2 (None, 6, 6, 64)          0         \n",
            "_________________________________________________________________\n",
            "dropout_1 (Dropout)          (None, 6, 6, 64)          0         \n",
            "_________________________________________________________________\n",
            "flatten (Flatten)            (None, 2304)              0         \n",
            "_________________________________________________________________\n",
            "dense (Dense)                (None, 800)               1844000   \n",
            "_________________________________________________________________\n",
            "dropout_2 (Dropout)          (None, 800)               0         \n",
            "_________________________________________________________________\n",
            "dense_1 (Dense)              (None, 10)                8010      \n",
            "=================================================================\n",
            "Total params: 1,889,578\n",
            "Trainable params: 1,889,578\n",
            "Non-trainable params: 0\n",
            "_________________________________________________________________\n",
            "Model is compiled and ready to train!\n",
            "Epoch 1/30\n",
            "1727/1727 [==============================] - 32s 19ms/step - loss: 0.2562 - accuracy: 0.9241 - val_loss: 0.1700 - val_accuracy: 0.9493\n",
            "Epoch 2/30\n",
            "1727/1727 [==============================] - 32s 19ms/step - loss: 0.1628 - accuracy: 0.9526 - val_loss: 0.1363 - val_accuracy: 0.9607\n",
            "Epoch 3/30\n",
            "1727/1727 [==============================] - 32s 19ms/step - loss: 0.1435 - accuracy: 0.9580 - val_loss: 0.1257 - val_accuracy: 0.9634\n",
            "Epoch 4/30\n",
            "1727/1727 [==============================] - 33s 19ms/step - loss: 0.1308 - accuracy: 0.9613 - val_loss: 0.1200 - val_accuracy: 0.9649\n",
            "Epoch 5/30\n",
            "1727/1727 [==============================] - 33s 19ms/step - loss: 0.1227 - accuracy: 0.9634 - val_loss: 0.1143 - val_accuracy: 0.9666\n",
            "Epoch 6/30\n",
            "1727/1727 [==============================] - 33s 19ms/step - loss: 0.1151 - accuracy: 0.9655 - val_loss: 0.1136 - val_accuracy: 0.9670\n",
            "Epoch 7/30\n",
            "1727/1727 [==============================] - 33s 19ms/step - loss: 0.1087 - accuracy: 0.9671 - val_loss: 0.1126 - val_accuracy: 0.9675\n",
            "Epoch 8/30\n",
            "1727/1727 [==============================] - 33s 19ms/step - loss: 0.1040 - accuracy: 0.9681 - val_loss: 0.1106 - val_accuracy: 0.9680\n",
            "Epoch 9/30\n",
            "1727/1727 [==============================] - 33s 19ms/step - loss: 0.0989 - accuracy: 0.9696 - val_loss: 0.1107 - val_accuracy: 0.9679\n",
            "Epoch 10/30\n",
            "1727/1727 [==============================] - 33s 19ms/step - loss: 0.0948 - accuracy: 0.9707 - val_loss: 0.1090 - val_accuracy: 0.9681\n",
            "Epoch 11/30\n",
            "1727/1727 [==============================] - 33s 19ms/step - loss: 0.0913 - accuracy: 0.9715 - val_loss: 0.1118 - val_accuracy: 0.9687\n",
            "Epoch 12/30\n",
            "1727/1727 [==============================] - 33s 19ms/step - loss: 0.0875 - accuracy: 0.9726 - val_loss: 0.1104 - val_accuracy: 0.9683\n",
            "Epoch 13/30\n",
            "1727/1727 [==============================] - 33s 19ms/step - loss: 0.0853 - accuracy: 0.9729 - val_loss: 0.1152 - val_accuracy: 0.9684\n",
            "Epoch 14/30\n",
            "1727/1727 [==============================] - 33s 19ms/step - loss: 0.0819 - accuracy: 0.9740 - val_loss: 0.1112 - val_accuracy: 0.9687\n",
            "Epoch 15/30\n",
            "1727/1727 [==============================] - 33s 19ms/step - loss: 0.0794 - accuracy: 0.9745 - val_loss: 0.1130 - val_accuracy: 0.9686\n",
            "Epoch 16/30\n",
            "1727/1727 [==============================] - 33s 19ms/step - loss: 0.0769 - accuracy: 0.9752 - val_loss: 0.1156 - val_accuracy: 0.9686\n",
            "Epoch 17/30\n",
            "1727/1727 [==============================] - 33s 19ms/step - loss: 0.0750 - accuracy: 0.9760 - val_loss: 0.1171 - val_accuracy: 0.9684\n",
            "Epoch 18/30\n",
            "1727/1727 [==============================] - 33s 19ms/step - loss: 0.0734 - accuracy: 0.9763 - val_loss: 0.1190 - val_accuracy: 0.9682\n",
            "Epoch 19/30\n",
            "1727/1727 [==============================] - 33s 19ms/step - loss: 0.0709 - accuracy: 0.9769 - val_loss: 0.1176 - val_accuracy: 0.9685\n",
            "Epoch 20/30\n",
            "1727/1727 [==============================] - 33s 19ms/step - loss: 0.0694 - accuracy: 0.9774 - val_loss: 0.1207 - val_accuracy: 0.9684\n",
            "Epoch 21/30\n",
            "1727/1727 [==============================] - 33s 19ms/step - loss: 0.0683 - accuracy: 0.9777 - val_loss: 0.1230 - val_accuracy: 0.9683\n",
            "Epoch 22/30\n",
            "1727/1727 [==============================] - 33s 19ms/step - loss: 0.0668 - accuracy: 0.9782 - val_loss: 0.1204 - val_accuracy: 0.9685\n",
            "Epoch 23/30\n",
            "1727/1727 [==============================] - 33s 19ms/step - loss: 0.0654 - accuracy: 0.9786 - val_loss: 0.1185 - val_accuracy: 0.9678\n",
            "Epoch 24/30\n",
            "1727/1727 [==============================] - 33s 19ms/step - loss: 0.0648 - accuracy: 0.9787 - val_loss: 0.1186 - val_accuracy: 0.9683\n",
            "Epoch 25/30\n",
            "1727/1727 [==============================] - 33s 19ms/step - loss: 0.0630 - accuracy: 0.9792 - val_loss: 0.1249 - val_accuracy: 0.9686\n",
            "Epoch 26/30\n",
            "1727/1727 [==============================] - 33s 19ms/step - loss: 0.0620 - accuracy: 0.9795 - val_loss: 0.1266 - val_accuracy: 0.9684\n",
            "Epoch 27/30\n",
            "1727/1727 [==============================] - 33s 19ms/step - loss: 0.0610 - accuracy: 0.9800 - val_loss: 0.1272 - val_accuracy: 0.9681\n",
            "Epoch 28/30\n",
            "1727/1727 [==============================] - 33s 19ms/step - loss: 0.0603 - accuracy: 0.9800 - val_loss: 0.1265 - val_accuracy: 0.9683\n",
            "Epoch 29/30\n",
            "1727/1727 [==============================] - 33s 19ms/step - loss: 0.0602 - accuracy: 0.9800 - val_loss: 0.1230 - val_accuracy: 0.9683\n",
            "Epoch 30/30\n",
            "1727/1727 [==============================] - 33s 19ms/step - loss: 0.0585 - accuracy: 0.9807 - val_loss: 0.1285 - val_accuracy: 0.9684\n",
            "8430/8430 [==============================] - 17s 2ms/step - loss: 0.1289 - accuracy: 0.9684\n",
            "\n",
            "Test loss: 0.12891212105751038\n",
            "Test accuracy: 0.9684355854988098\n"
          ],
          "name": "stdout"
        }
      ]
    },
    {
      "cell_type": "code",
      "metadata": {
        "colab": {
          "base_uri": "https://localhost:8080/"
        },
        "id": "-X3RaWHW1R47",
        "outputId": "ba457d4b-9446-4fe9-f2a2-9e79b8316e5a"
      },
      "source": [
        "from google.colab import drive\n",
        "drive.mount('/content/gdrive')"
      ],
      "execution_count": null,
      "outputs": [
        {
          "output_type": "stream",
          "text": [
            "Drive already mounted at /content/gdrive; to attempt to forcibly remount, call drive.mount(\"/content/gdrive\", force_remount=True).\n"
          ],
          "name": "stdout"
        }
      ]
    },
    {
      "cell_type": "code",
      "metadata": {
        "colab": {
          "base_uri": "https://localhost:8080/"
        },
        "id": "VRgAeOvcAe8p",
        "outputId": "5b901be6-3dba-414d-b895-6afd1436427c"
      },
      "source": [
        "cd drive/MyDrive/Colab\\ Notebooks"
      ],
      "execution_count": null,
      "outputs": [
        {
          "output_type": "stream",
          "text": [
            "/content/drive/MyDrive/Colab Notebooks\n"
          ],
          "name": "stdout"
        }
      ]
    },
    {
      "cell_type": "code",
      "metadata": {
        "id": "AhTIqfqX9nIk"
      },
      "source": [
        "model_CNN.save('JiiNet_SoftPlus_500B_30E.h5') "
      ],
      "execution_count": null,
      "outputs": []
    },
    {
      "cell_type": "code",
      "metadata": {
        "colab": {
          "base_uri": "https://localhost:8080/"
        },
        "id": "fP_xfNGF44MA",
        "outputId": "366dee45-ac44-418d-9c28-f0345b895ff3"
      },
      "source": [
        "from google.colab import drive\n",
        "drive.mount('/content/drive')"
      ],
      "execution_count": null,
      "outputs": [
        {
          "output_type": "stream",
          "text": [
            "Mounted at /content/drive\n"
          ],
          "name": "stdout"
        }
      ]
    },
    {
      "cell_type": "code",
      "metadata": {
        "colab": {
          "base_uri": "https://localhost:8080/"
        },
        "id": "EnaS4eoG1U7d",
        "outputId": "231845b3-f827-45c6-c3e4-3348b8af136d"
      },
      "source": [
        "#loading trained models to evaluate on the same test sets and compare, make sure your paths are chill before running\n",
        "#totally also make sure you scramble the test part of the X_use and Y_use before you compare otherwise thats just not chill bro.\n",
        "#also dont you dare touch my special only touch datasets, we save those bad boys for when we compare our final trained models\n",
        "\n",
        "#load from local drive\n",
        "#filedir = '/content/gdrive/My Drive/'\n",
        "#modelfile = 'JiiNet_SoftMax.h5'\n",
        "#SoftMax = load_model(filedir+modelfile)\n",
        "\n",
        "#load from local drive\n",
        "modelfile = 'JiiNet_SoftPlus_500B_30E.h5'\n",
        "SoftPlus = load_model(modelfile)\n",
        "\n",
        "#evaluate models - note: loaded test set must have same expected samples as the trained set\n",
        "SoftPlus_score = SoftPlus.evaluate(X_test, Y_test, verbose=1)\n",
        "#SoftMax_score = SoftMax.evaluate(X_test, Y_test, verbose=1)\n",
        "print('                 SoftPlus                      SoftMax')\n",
        "print('    Test loss: %.8f'%SoftPlus_score[0])#+ '    '+ '%.12f'%SoftMax_score[0])\n",
        "print('Test accuracy: %.12f'%SoftPlus_score[1])#+ '    ' + '%.12f'%SoftMax_score[1])"
      ],
      "execution_count": null,
      "outputs": [
        {
          "output_type": "stream",
          "text": [
            "8430/8430 [==============================] - 18s 2ms/step - loss: 0.1289 - accuracy: 0.9684\n",
            "                 SoftPlus                      SoftMax\n",
            "    Test loss: 0.12891209\n",
            "Test accuracy: 0.968435585499\n"
          ],
          "name": "stdout"
        }
      ]
    },
    {
      "cell_type": "code",
      "metadata": {
        "id": "4gTk6PjH1U7e"
      },
      "source": [
        ""
      ],
      "execution_count": null,
      "outputs": []
    }
  ]
}