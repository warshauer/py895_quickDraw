{
 "cells": [
  {
   "cell_type": "code",
   "execution_count": 2,
   "metadata": {},
   "outputs": [
    {
     "name": "stderr",
     "output_type": "stream",
     "text": [
      "Using TensorFlow backend.\n"
     ]
    }
   ],
   "source": [
    "from __future__ import print_function\n",
    "import keras,sklearn\n",
    "# suppress tensorflow compilation warnings\n",
    "import os\n",
    "os.environ['KMP_DUPLICATE_LIB_OK']='True'\n",
    "import tensorflow.compat.v1 as tf\n",
    "os.environ['TF_CPP_MIN_LOG_LEVEL'] = '2'\n",
    "import numpy as np\n",
    "seed=0\n",
    "np.random.seed(seed) # fix random seed\n",
    "tf.compat.v1.set_random_seed(seed)\n",
    "import matplotlib.pyplot as plt\n",
    "import cv2\n",
    "import pickle\n",
    "from sklearn.model_selection import train_test_split\n",
    "from keras.utils import to_categorical\n",
    "from tensorflow.keras import datasets, layers, models\n",
    "from keras.models import Sequential,load_model\n",
    "from keras.layers import Dense, Dropout, Flatten\n",
    "from keras.layers import Conv2D, MaxPooling2D\n",
    "import requests\n",
    "import io"
   ]
  },
  {
   "cell_type": "code",
   "execution_count": 3,
   "metadata": {},
   "outputs": [],
   "source": [
    "#load model from server\n",
    "url_main = 'https://physics.bu.edu/~warsh/ML_QD/'\n",
    "modelfile = 'model_200000samps.h5'\n",
    "\n",
    "response = requests.get(url_main + modelfile)\n",
    "response.raise_for_status()\n",
    "\n",
    "model_200k = load_model(io.BytesIO(response.content))"
   ]
  },
  {
   "cell_type": "code",
   "execution_count": 4,
   "metadata": {},
   "outputs": [],
   "source": [
    "#load model from local dir\n",
    "mod_dir = 'C:/Users/Warsh/ML_Notebooks_edited/mlqdproj/models/'\n",
    "modelfile = 'model_40000samps.h5'\n",
    "\n",
    "model_40k = load_model(mod_dir + modelfile)"
   ]
  },
  {
   "cell_type": "code",
   "execution_count": 5,
   "metadata": {},
   "outputs": [
    {
     "data": {
      "image/png": "[encoded data removed]",
      "text/plain": [
       "<Figure size 288x288 with 1 Axes>"
      ]
     },
     "metadata": {
      "needs_background": "light"
     },
     "output_type": "display_data"
    },
    {
     "name": "stdout",
     "output_type": "stream",
     "text": [
      "CNN classified as the mona lisa\n"
     ]
    }
   ],
   "source": [
    "#pictionary cell\n",
    "#run cell, draw with mouse, use right click to change between eraser and draw mode, esc to close window\n",
    "#dont use the file save thing until you set it up for your computer\n",
    "#to use file save stuff just set saveset = True\n",
    "saveset = False\n",
    "#which model?\n",
    "model = model_200k\n",
    "\n",
    "\n",
    "import cv2\n",
    "import numpy as np\n",
    "import os\n",
    "import matplotlib.pyplot as plt\n",
    "\n",
    "drawing = False # true if mouse is pressed\n",
    "mode = False # if True, draw rectangle. Press 'm' to toggle to curve\n",
    "ix,iy = -1,-1\n",
    "brushsize=10\n",
    "ersize=20\n",
    "\n",
    "# mouse callback function\n",
    "def draw_circle(event,x,y,flags,param):\n",
    "    global ix,iy,drawing,mode\n",
    "\n",
    "    #this is eraser\n",
    "    if event == cv2.EVENT_RBUTTONDOWN:\n",
    "        mode = not(mode)\n",
    "        ix,iy = x,y\n",
    "            \n",
    "    #and this is for drawing\n",
    "    if event == cv2.EVENT_LBUTTONDOWN:\n",
    "        drawing = True\n",
    "        ix,iy = x,y\n",
    "\n",
    "    elif event == cv2.EVENT_MOUSEMOVE:\n",
    "        if drawing == True:\n",
    "            if mode == True:\n",
    "                cv2.circle(img,(x,y),ersize,(255,255,255),-1)\n",
    "            else:\n",
    "                cv2.circle(img,(x,y),brushsize,(0,0,0),-1)\n",
    "\n",
    "    elif event == cv2.EVENT_LBUTTONUP:\n",
    "        drawing = False\n",
    "        if mode == True:\n",
    "            cv2.circle(img,(x,y),ersize,(255,255,255),-1)\n",
    "        else:\n",
    "            cv2.circle(img,(x,y),brushsize,(0,0,0),-1)\n",
    "            \n",
    "#create image and a window and bind the function to window\n",
    "img = np.zeros((512,512,3), np.uint8)\n",
    "cv2.namedWindow('draw something!')\n",
    "cv2.circle(img,(255,255),400,(255,255,255),-1)\n",
    "cv2.setMouseCallback('draw something!',draw_circle)\n",
    "while(1):\n",
    "    cv2.imshow('draw something!',img)\n",
    "    if cv2.waitKey(20) & 0xFF == 27:\n",
    "        break\n",
    "\n",
    "#convert to usable\n",
    "rgb_weights = [0.2989, 0.5870, 0.1141]\n",
    "gs_img = abs(255-np.dot(img[...,:3], rgb_weights))\n",
    "gs_img /= 255\n",
    "lowres = cv2.resize(gs_img, dsize=(28, 28), interpolation=cv2.INTER_LINEAR)\n",
    "\n",
    "#file saving stuff\n",
    "if saveset==True:\n",
    "    picname = 'C:/Users/Warsh/ML_Notebooks_edited/drawings/niceimage'\n",
    "    savfil = picname\n",
    "    i=1\n",
    "    yeet=False\n",
    "    while yeet==False:\n",
    "        if os.path.exists(savfil+'.png')==True:\n",
    "            savfil = picname+str(i)\n",
    "            i=i+1\n",
    "        else:\n",
    "            cv2.imwrite(savfil+'.png',gs_img*255)\n",
    "            cv2.imwrite(savfil+'cov.png',lowres*255)\n",
    "            yeet=True\n",
    "\n",
    "#close windows\n",
    "cv2.destroyAllWindows()\n",
    "\n",
    "#look at 28x28 version of drawing\n",
    "plt.matshow(lowres.reshape(28,28),cmap='binary')\n",
    "plt.show()\n",
    "\n",
    "#reshape to 4D array, predict with the trained CNN\n",
    "lowres_rshp=lowres.reshape(1,28,28,1)\n",
    "yokay=['an airplane', 'the mona lisa','a dragon','a giraffe']\n",
    "cat=model.predict(lowres_rshp).argmax(1)\n",
    "print('CNN classified as',yokay[cat[0]])"
   ]
  },
  {
   "cell_type": "code",
   "execution_count": null,
   "metadata": {},
   "outputs": [],
   "source": []
  }
 ],
 "metadata": {
  "kernelspec": {
   "display_name": "Python 3",
   "language": "python",
   "name": "python3"
  },
  "language_info": {
   "codemirror_mode": {
    "name": "ipython",
    "version": 3
   },
   "file_extension": ".py",
   "mimetype": "text/x-python",
   "name": "python",
   "nbconvert_exporter": "python",
   "pygments_lexer": "ipython3",
   "version": "3.7.7"
  }
 },
 "nbformat": 4,
 "nbformat_minor": 4
}
